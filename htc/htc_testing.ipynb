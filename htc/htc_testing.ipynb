{
  "nbformat": 4,
  "nbformat_minor": 0,
  "metadata": {
    "colab": {
      "name": "testing.ipynb",
      "version": "0.3.2",
      "provenance": [],
      "collapsed_sections": [],
      "toc_visible": true
    },
    "kernelspec": {
      "name": "python3",
      "display_name": "Python 3"
    },
    "accelerator": "GPU"
  },
  "cells": [
    {
      "cell_type": "markdown",
      "metadata": {
        "id": "9kbDY--4LlVi",
        "colab_type": "text"
      },
      "source": [
        "# Install required packages"
      ]
    },
    {
      "cell_type": "code",
      "metadata": {
        "id": "-VLeU_JALkjm",
        "colab_type": "code",
        "colab": {}
      },
      "source": [
        "!pip install mmcv\n",
        "!git clone https://github.com/open-mmlab/mmdetection.git\n",
        "%cd mmdetection/\n",
        "!pip install -v -e .\n",
        "# !pip uninstall terminaltables\n",
        "# !pip install terminaltables\n",
        "# !pip uninstall imagecorruptions\n",
        "# !pip install imagecorruptions"
      ],
      "execution_count": 0,
      "outputs": []
    },
    {
      "cell_type": "markdown",
      "metadata": {
        "id": "AUV0qTEEZZ6a",
        "colab_type": "text"
      },
      "source": [
        "# Download pretrained weights, input data and table"
      ]
    },
    {
      "cell_type": "code",
      "metadata": {
        "id": "r88tICgRM9nC",
        "colab_type": "code",
        "colab": {}
      },
      "source": [
        "# download submission file, class table\n",
        "!rm -r /content/submission\n",
        "!mkdir /content/submission\n",
        "!wget -O /content/submission/challenge-2019-classes-description-segmentable.csv --no-check-certificate \"https://drive.google.com/uc?export=download&id=1z65gsTMJrSDAv_UMkTpphwfcRixn-dUr\"\n",
        "!wget -O /content/submission/sample_empty_submission.csv --no-check-certificate \"https://drive.google.com/uc?export=download&id=1n_xfLkbX2a1oQiYl9b3agpjdh5kzs7b4\"\n",
        "\n",
        "# download pretrained model\n",
        "!rm -rf /content/model\n",
        "!mkdir /content/model\n",
        "# # !wget -O /content/model/htc_r101_fpn_20e.pth https://s3.ap-northeast-2.amazonaws.com/open-mmlab/mmdetection/models/htc/htc_r101_fpn_20e_20190408-a2e586db.pth    \n",
        "# # !wget -O /content/model/htc_r101_fpn_20e.pth https://s3.ap-northeast-2.amazonaws.com/open-mmlab/mmdetection/models/htc/htc_x101_64x4d_fpn_20e_20190408-497f2561.pth\n",
        "# # !wget -O /content/model/htc_dconv_c3-c5_mstrain_400_1400_x101_64x4d_fpn_20e.pth https://s3.ap-northeast-2.amazonaws.com/open-mmlab/mmdetection/models/htc/htc_dconv_c3-c5_mstrain_400_1400_x101_64x4d_fpn_20e_20190408-0e50669c.pth\n",
        "# !wget -O /content/model/htc_x101_32x4d_fpn_20e_16gpu.pth \"https://s3.ap-northeast-2.amazonaws.com/open-mmlab/mmdetection/models/htc/htc_x101_32x4d_fpn_20e_20190408-9eae4d0b.pth\"\n",
        "!wget -O /content/model/htc_r50_fpn_1x.pth \"https://s3.ap-northeast-2.amazonaws.com/open-mmlab/mmdetection/models/htc/htc_r50_fpn_1x_20190408-878c1712.pth\"\n",
        "\n",
        "# download test dataset\n",
        "!rm -rf /content/data\n",
        "!mkdir /content/data\n",
        "!mkdir /content/data/test\n",
        "!wget -O /content/data/test.zip https://datasets.figure-eight.com/figure_eight_datasets/open-images/test_challenge.zip\n",
        "!unzip -qq /content/data/test.zip -d /content/data/test\n",
        "!rm /content/data/test.zip"
      ],
      "execution_count": 0,
      "outputs": []
    },
    {
      "cell_type": "code",
      "metadata": {
        "id": "fNEQrGzGHllX",
        "colab_type": "code",
        "colab": {}
      },
      "source": [
        "# mount gdrive to dolab\n",
        "from google.colab import drive\n",
        "drive.mount('/content/drive')"
      ],
      "execution_count": 0,
      "outputs": []
    },
    {
      "cell_type": "markdown",
      "metadata": {
        "id": "wLk5pfJnZz1D",
        "colab_type": "text"
      },
      "source": [
        "# Import model"
      ]
    },
    {
      "cell_type": "code",
      "metadata": {
        "id": "ojKsVB0WCVpQ",
        "colab_type": "code",
        "colab": {}
      },
      "source": [
        "# import required libraries\n",
        "%matplotlib inline\n",
        "import os, glob, time\n",
        "import numpy as np\n",
        "import pandas as pd\n",
        "import mmcv\n",
        "from mmdet.apis import init_detector, inference_detector, show_result\n",
        "import base64\n",
        "from pycocotools import _mask as coco_mask\n",
        "import pycocotools.mask as maskUtils\n",
        "import typing as t\n",
        "import zlib\n",
        "import torch\n",
        "from matplotlib import pyplot as plt\n",
        "from functools import reduce\n",
        "from tqdm import tqdm_notebook "
      ],
      "execution_count": 0,
      "outputs": []
    },
    {
      "cell_type": "code",
      "metadata": {
        "id": "EjuiHVYSfs-0",
        "colab_type": "code",
        "outputId": "72c12231-bc58-46bb-f19e-7c4a314af996",
        "colab": {
          "base_uri": "https://localhost:8080/",
          "height": 35
        }
      },
      "source": [
        "# read images path\n",
        "pic_list = glob.glob(\"/content/data/test/challenge2018/*.*\")\n",
        "file_names = [i.split('/')[-1][:-4] for i in pic_list]\n",
        "print(\"[Test Image]: \",len(pic_list))"
      ],
      "execution_count": 0,
      "outputs": [
        {
          "output_type": "stream",
          "text": [
            "[Test Image]:  99999\n"
          ],
          "name": "stdout"
        }
      ]
    },
    {
      "cell_type": "code",
      "metadata": {
        "id": "wqrDn2CrOZqK",
        "colab_type": "code",
        "colab": {}
      },
      "source": [
        "def encode_binary_mask(mask: np.ndarray) -> t.Text:\n",
        "# Converts a binary mask into OID challenge encoding ascii text.\n",
        "\n",
        "  # check input mask --\n",
        "  if mask.dtype != np.bool:\n",
        "    raise ValueError(\n",
        "       \"encode_binary_mask expects a binary mask, received dtype == %s\" %\n",
        "       mask.dtype)\n",
        "\n",
        "  mask = np.squeeze(mask)\n",
        "  if len(mask.shape) != 2:\n",
        "    raise ValueError(\n",
        "       \"encode_binary_mask expects a 2d mask, received shape == %s\" %\n",
        "       mask.shape)\n",
        "\n",
        "  # convert input mask to expected COCO API input --\n",
        "  mask_to_encode = mask.reshape(mask.shape[0], mask.shape[1], 1)\n",
        "  mask_to_encode = mask_to_encode.astype(np.uint8)\n",
        "  mask_to_encode = np.asfortranarray(mask_to_encode)\n",
        "\n",
        "  # RLE encode mask --\n",
        "  encoded_mask = coco_mask.encode(mask_to_encode)[0][\"counts\"]\n",
        "\n",
        "  # compress and base64 encoding --\n",
        "  binary_str = zlib.compress(encoded_mask, zlib.Z_BEST_COMPRESSION)\n",
        "  base64_str = base64.b64encode(binary_str)\n",
        "  \n",
        "  return base64_str"
      ],
      "execution_count": 0,
      "outputs": []
    },
    {
      "cell_type": "code",
      "metadata": {
        "id": "9Fc9ZLJjWbF8",
        "colab_type": "code",
        "colab": {}
      },
      "source": [
        "# loading prediction model\n",
        "device = torch.device('cuda:0' if torch.cuda.is_available() else 'cpu')\n",
        "# config_file = '/content/mmdetection/configs/htc/htc_dconv_c3-c5_mstrain_400_1400_x101_64x4d_fpn_20e.py'\n",
        "# config_file = '/content/mmdetection/configs/htc/htc_x101_32x4d_fpn_20e_16gpu.py'\n",
        "config_file = '/content/mmdetection/configs/htc/htc_r50_fpn_1x.py'\n",
        "\n",
        "# checkpoint_file = '/content/model/htc_dconv_c3-c5_mstrain_400_1400_x101_64x4d_fpn_20e.pth'\n",
        "# checkpoint_file = '/content/model/htc_x101_32x4d_fpn_20e_16gpu.pth'\n",
        "checkpoint_file = '/content/model/htc_r50_fpn_1x.pth'\n",
        "\n",
        "model = init_detector(config_file, checkpoint_file, device=device)"
      ],
      "execution_count": 0,
      "outputs": []
    },
    {
      "cell_type": "code",
      "metadata": {
        "id": "YeGSlxiyKmsD",
        "colab_type": "code",
        "colab": {}
      },
      "source": [
        "class_lookup_df = pd.read_csv(\"/content/submission/challenge-2019-classes-description-segmentable.csv\", header=None)\n",
        "empty_submission_df = pd.read_csv(\"/content/submission/sample_empty_submission.csv\")\n",
        "\n",
        "# TODO: we have to convert coco classes to this competition's classes (COCO: 80, competition: 300)\n",
        "class_lookup_df.columns = [\"encoded_label\",\"label\"]\n",
        "class_lookup_df['label'] = class_lookup_df['label'].str.lower()\n",
        "class_lookup_df['label'] = class_lookup_df['label'].str.replace(' ','_')"
      ],
      "execution_count": 0,
      "outputs": []
    },
    {
      "cell_type": "code",
      "metadata": {
        "id": "03qlvn5Di6EZ",
        "colab_type": "code",
        "outputId": "5f14df62-2752-4bb2-92c6-825fe8afa5e7",
        "colab": {
          "base_uri": "https://localhost:8080/",
          "height": 832
        }
      },
      "source": [
        "print(\"Target classes [%d]\"%len(class_lookup_df['label'].values))\n",
        "print(np.array(class_lookup_df['label'].values))"
      ],
      "execution_count": 0,
      "outputs": [
        {
          "output_type": "stream",
          "text": [
            "Target classes [300]\n",
            "['screwdriver' 'light_switch' 'doughnut' 'toilet_paper' 'wrench' 'toaster'\n",
            " 'tennis_ball' 'radish' 'pomegranate' 'kite' 'table_tennis_racket'\n",
            " 'hamster' 'barge' 'shower' 'printer' 'snowmobile' 'fire_hydrant'\n",
            " 'limousine' 'whale' 'microwave_oven' 'asparagus' 'lion' 'spatula' 'torch'\n",
            " 'volleyball' 'ambulance' 'chopsticks' 'raccoon' 'blue_jay' 'lynx' 'dice'\n",
            " 'filing_cabinet' 'ruler' 'power_plugs_and_sockets' 'bell_pepper'\n",
            " 'binoculars' 'pretzel' 'hot_dog' 'missile' 'common_fig' 'croissant'\n",
            " 'adhesive_tape' 'slow_cooker' 'dog_bed' 'harpsichord' 'billiard_table'\n",
            " 'alpaca' 'harbor_seal' 'grape' 'nail' 'paper_towel' 'alarm_clock'\n",
            " 'guacamole' 'starfish' 'zebra' 'segway' 'sea_turtle' 'scissors'\n",
            " 'rhinoceros' 'kangaroo' 'jaguar' 'leopard' 'dumbbell' 'envelope'\n",
            " 'winter_melon' 'teapot' 'camel' 'beaker' 'brown_bear' 'toilet'\n",
            " 'teddy_bear' 'briefcase' 'stop_sign' 'tiger' 'cabbage' 'giraffe'\n",
            " 'polar_bear' 'shark' 'rabbit' 'swim_cap' 'pressure_cooker'\n",
            " 'kitchen_knife' 'submarine_sandwich' 'flashlight' 'penguin' 'snake'\n",
            " 'zucchini' 'bat' 'food_processor' 'ostrich' 'sea_lion' 'goldfish'\n",
            " 'elephant' 'rocket' 'mouse' 'oyster' 'digital_clock' 'otter' 'dolphin'\n",
            " 'punching_bag' 'corded_phone' 'tennis_racket' 'pancake' 'mango'\n",
            " 'crocodile' 'waffle' 'computer_mouse' 'kettle' 'tart' 'oven' 'banana'\n",
            " 'cheetah' 'raven' 'frying_pan' 'pear' 'fox' 'skateboard' 'rugby_ball'\n",
            " 'watermelon' 'flute' 'canary' 'door_handle' 'saxophone' 'burrito'\n",
            " 'suitcase' 'roller_skates' 'dagger' 'seat_belt' 'washing_machine'\n",
            " 'jet_ski' 'sombrero' 'pig' 'drinking_straw' 'peach' 'tortoise' 'towel'\n",
            " 'tablet_computer' 'cucumber' 'mule' 'potato' 'frog' 'bear' 'lighthouse'\n",
            " 'belt' 'baseball_bat' 'racket' 'sword' 'bagel' 'goat' 'lizard' 'parrot'\n",
            " 'owl' 'turkey' 'cello' 'knife' 'handgun' 'carrot' 'hamburger'\n",
            " 'grapefruit' 'tap' 'tea' 'bull' 'turtle' 'bust' 'monkey' 'wok' 'broccoli'\n",
            " 'pitcher' 'whiteboard' 'squirrel' 'jug' 'woodpecker' 'pizza' 'surfboard'\n",
            " 'sofa_bed' 'sheep' 'candle' 'muffin' 'cookie' 'apple' 'chest_of_drawers'\n",
            " 'skull' 'chicken' 'loveseat' 'baseball_glove' 'piano' 'waste_container'\n",
            " 'barrel' 'swan' 'taxi' 'lemon' 'pumpkin' 'sparrow' 'orange' 'tank'\n",
            " 'sandwich' 'coffee' 'juice' 'coin' 'pen' 'watch' 'eagle' 'goose' 'falcon'\n",
            " 'christmas_tree' 'sunflower' 'vase' 'football' 'canoe' 'high_heels'\n",
            " 'spoon' 'mug' 'swimwear' 'duck' 'cat' 'tomato' 'cocktail' 'clock'\n",
            " 'cowboy_hat' 'miniskirt' 'cattle' 'strawberry' 'bronze_sculpture'\n",
            " 'pillow' 'squash' 'traffic_light' 'saucer' 'reptile' 'cake' 'plastic_bag'\n",
            " 'studio_couch' 'beer' 'scarf' 'coffee_cup' 'wine' 'mushroom'\n",
            " 'traffic_sign' 'camera' 'rose' 'couch' 'handbag' 'fedora' 'sock'\n",
            " 'computer_keyboard' 'mobile_phone' 'ball' 'balloon' 'horse' 'boot' 'fish'\n",
            " 'backpack' 'skirt' 'van' 'bread' 'glove' 'dog' 'airplane' 'motorcycle'\n",
            " 'drink' 'book' 'train' 'flower' 'carnivore' 'human_ear' 'toy' 'box'\n",
            " 'truck' 'wheel' 'aircraft' 'bus' 'human_mouth' 'sculpture' 'shirt' 'hat'\n",
            " 'vehicle_registration_plate' 'guitar' 'sun_hat' 'bottle'\n",
            " 'luggage_and_bags' 'trousers' 'bicycle_wheel' 'suit' 'bowl' 'man'\n",
            " 'flowerpot' 'laptop' 'boy' 'picture_frame' 'bird' 'car' 'shorts' 'woman'\n",
            " 'platter' 'tie' 'girl' 'skyscraper' 'person' 'flag' 'jeans' 'dress']\n"
          ],
          "name": "stdout"
        }
      ]
    },
    {
      "cell_type": "code",
      "metadata": {
        "id": "YeqXFQV-iE15",
        "colab_type": "code",
        "outputId": "5a32427f-23cc-4a16-cc45-e6059e9ee0e7",
        "colab": {
          "base_uri": "https://localhost:8080/",
          "height": 243
        }
      },
      "source": [
        "print(\"HTC Pretrained model Classes [%d]\"%len(model.CLASSES))\n",
        "print(np.array(sorted(model.CLASSES)))"
      ],
      "execution_count": 0,
      "outputs": [
        {
          "output_type": "stream",
          "text": [
            "HTC Pretrained model Classes [80]\n",
            "['airplane' 'apple' 'backpack' 'banana' 'baseball_bat' 'baseball_glove'\n",
            " 'bear' 'bed' 'bench' 'bicycle' 'bird' 'boat' 'book' 'bottle' 'bowl'\n",
            " 'broccoli' 'bus' 'cake' 'car' 'carrot' 'cat' 'cell_phone' 'chair' 'clock'\n",
            " 'couch' 'cow' 'cup' 'dining_table' 'dog' 'donut' 'elephant'\n",
            " 'fire_hydrant' 'fork' 'frisbee' 'giraffe' 'hair_drier' 'handbag' 'horse'\n",
            " 'hot_dog' 'keyboard' 'kite' 'knife' 'laptop' 'microwave' 'motorcycle'\n",
            " 'mouse' 'orange' 'oven' 'parking_meter' 'person' 'pizza' 'potted_plant'\n",
            " 'refrigerator' 'remote' 'sandwich' 'scissors' 'sheep' 'sink' 'skateboard'\n",
            " 'skis' 'snowboard' 'spoon' 'sports_ball' 'stop_sign' 'suitcase'\n",
            " 'surfboard' 'teddy_bear' 'tennis_racket' 'tie' 'toaster' 'toilet'\n",
            " 'toothbrush' 'traffic_light' 'train' 'truck' 'tv' 'umbrella' 'vase'\n",
            " 'wine_glass' 'zebra']\n"
          ],
          "name": "stdout"
        }
      ]
    },
    {
      "cell_type": "code",
      "metadata": {
        "id": "WdLEe6yKlZwF",
        "colab_type": "code",
        "outputId": "355c476c-632d-41e8-cf13-8941962a9db9",
        "colab": {
          "base_uri": "https://localhost:8080/",
          "height": 243
        }
      },
      "source": [
        "ImageID_list = []\n",
        "ImageWidth_list = []\n",
        "ImageHeight_list = []\n",
        "PredictionString_list = []\n",
        "score_thr = 0.3\n",
        "\n",
        "IMAGE_DIR = '/content/data/test/challenge2018/'\n",
        "submission = empty_submission_df.copy()\n",
        "# for i in range(1):\n",
        "#   img_path = pic_list[i]\n",
        "#   img = mmcv.imread(img_path)\n",
        "#   imageID = reduce(lambda x,y:x+y, img_path.split('/')[-1].split('.')[:-1])\n",
        "# for table_index, imageID in tqdm(enumerate(empty_submission_df['ImageID'].values)):\n",
        "for table_index, imageID in enumerate(empty_submission_df['ImageID'].values):\n",
        "#   if table_index == 5:\n",
        "#     break\n",
        "  img_path = \"%s%s.jpg\"%(IMAGE_DIR,imageID)\n",
        "  start = time.time()\n",
        "  result = inference_detector(model, img_path)\n",
        "  end = time.time()\n",
        "  prediction_string = \"\"\n",
        "#   print(\"[ID: %s]\"%imageID)\n",
        "  if isinstance(result, tuple):\n",
        "    bbox_result, segm_result = result\n",
        "  else:\n",
        "    bbox_result, segm_result = result, None\n",
        "#   show_result(img_path, result, model.CLASSES, show=False, out_file='/content/output_%s.jpg'%imageID) # save image\n",
        "  bboxes = np.vstack(bbox_result)\n",
        "\n",
        "  if segm_result is not None :\n",
        "#     print(len(segm_result))\n",
        "    segms = mmcv.concat_list(segm_result)\n",
        "    inds = np.where(np.array(bboxes)[:, -1] > score_thr)[0]\n",
        "    labels = [\n",
        "                  np.full(bbox.shape[0], i, dtype=np.int32)\n",
        "                  for i, bbox in enumerate(bbox_result)\n",
        "              ]\n",
        "    labels = np.concatenate(labels)\n",
        "    for i,seg in enumerate(segms):\n",
        "      if len(segms[i]) > 0:\n",
        "        height,width = segms[i]['size']\n",
        "        break\n",
        "  else:\n",
        "    inds = np.empty((0,),dtype=int64)\n",
        "\n",
        "  if np.where(np.array(bboxes)[:, -1] > 1)[0].shape[0] == 0:\n",
        "    height,width = -1, -1\n",
        "#   print(\"[%d] objects detected\"%len(inds))\n",
        "  \n",
        "  for i in inds:\n",
        "    labelname = model.CLASSES[labels[i]]\n",
        "    if class_lookup_df[class_lookup_df[\"label\"] == labelname][\"encoded_label\"].empty: # mismatch between coco label and Open Image label\n",
        "#       print(\"%s is not in Open Image\"%labelname)\n",
        "      continue\n",
        "    encoded_label = class_lookup_df[class_lookup_df[\"label\"] == labelname][\"encoded_label\"].item()\n",
        "    confidence = bboxes[i][-1]\n",
        "    mask = maskUtils.decode(segms[i]).astype(np.bool)\n",
        "    encoded_mask = encode_binary_mask(mask)\n",
        "    \n",
        "    prediction_string += encoded_label + \" \"\n",
        "    prediction_string += str(confidence) + \" \"\n",
        "    prediction_string += encoded_mask.decode() + \" \"\n",
        "  submission.loc[table_index,'ImageWidth'] = width\n",
        "  submission.loc[table_index,'ImageHeight'] = height\n",
        "  submission.loc[table_index,'PredictionString'] = prediction_string\n",
        "  print(\"[%d] %.4f  %.4f\"%(table_index,end-start,time.time()-start))\n",
        "  if table_index % 500 == 0:\n",
        "#     submission.to_csv(\"/content/submission_%d.csv\"%(table_index),index=False,sep=',')\n",
        "  submission.to_csv(\"/content/drive/submission/submission_%d.csv\"%(table_index),index=False,sep=',')\n",
        "#   print(prediction_string)\n",
        "submission.to_csv(\"/content/submission.csv\",index=False,sep=',')\n",
        "\n",
        "    \n"
      ],
      "execution_count": 0,
      "outputs": [
        {
          "output_type": "stream",
          "text": [
            "[0] 1.2040  1.2212\n",
            "[1] 1.2234  1.2471\n",
            "[2] 0.6856  0.6956\n",
            "[3] 1.1914  1.2096\n",
            "[4] 1.2225  1.2468\n",
            "[5] 0.7301  0.7470\n",
            "[6] 1.1457  1.1598\n",
            "[7] 1.1530  1.1643\n",
            "[8] 1.1826  1.2016\n",
            "[9] 0.9670  0.9774\n",
            "[10] 1.1289  1.1426\n",
            "[11] 0.9728  0.9871\n",
            "[12] 1.1438  1.1599\n"
          ],
          "name": "stdout"
        }
      ]
    },
    {
      "cell_type": "code",
      "metadata": {
        "id": "JE-OCbV9r0Z6",
        "colab_type": "code",
        "colab": {}
      },
      "source": [
        ""
      ],
      "execution_count": 0,
      "outputs": []
    }
  ]
}